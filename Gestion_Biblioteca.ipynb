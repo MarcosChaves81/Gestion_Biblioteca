{
 "cells": [
  {
   "cell_type": "markdown",
   "metadata": {},
   "source": [
    "1. Clase libro\n",
    "\n",
    "        Atributos\n",
    "título\n",
    "autor\n",
    "isbn\n",
    "editorial\n",
    "año_publicacion\n",
    "disponible\n",
    "\n",
    "\n",
    "        Métodos\n",
    "__init__\n",
    "mostrar_info\n",
    "actualizar_disponibilidad"
   ]
  },
  {
   "cell_type": "code",
   "execution_count": 1,
   "metadata": {},
   "outputs": [],
   "source": [
    "class Libro:\n",
    "    def __init__(self, titulo, autor, isbn, editorial, anio_publicacion):\n",
    "        self.titulo = titulo\n",
    "        self.autor = autor\n",
    "        self.isbn = isbn\n",
    "        self.editorial = editorial\n",
    "        self.anio_publicacion = anio_publicacion\n",
    "        self.disponible = True\n",
    "\n",
    "    def mostrar_info(self):\n",
    "        return f\"{self.titulo} por {self.autor}, ISBN: {self.isbn}, Editorial: {self.editorial}, Año: {self.anio_publicacion}\"\n",
    "\n",
    "    def actualizar_disponibilidad(self, estado):\n",
    "        self.disponible = estado\n",
    "        estado_str = \"Disponible\" if estado else \"No disponible\"\n",
    "        print(f\"El libro {self.titulo} ahora está {estado_str}\")\n"
   ]
  },
  {
   "cell_type": "markdown",
   "metadata": {},
   "source": [
    "2. Clase Usuario\n",
    "\n",
    "        Atributos\n",
    "id_usuario\n",
    "nombre\n",
    "email\n",
    "libros_prestados\n",
    "\n",
    "        Métodos\n",
    "__init__\n",
    "prestar_libro\n",
    "devolver_libro\n",
    "      "
   ]
  },
  {
   "cell_type": "code",
   "execution_count": 2,
   "metadata": {},
   "outputs": [],
   "source": [
    "class Usuario:\n",
    "    def __init__(self,ID_usuario,nombre,email):\n",
    "        self.ID_usuario = ID_usuario\n",
    "        self.nombre = nombre\n",
    "        self.email = email\n",
    "        self.libros_prestados = []\n",
    "\n",
    "    def prestar_libros(self,libro):\n",
    "        if libro.disponible:\n",
    "            self.libros_prestados.append(libro)\n",
    "            libro.actualizar_disponibilidad(False)\n",
    "            print(f\"Libro {libro.titulo} prestado a {self.nombre}\")\n",
    "        else:\n",
    "            print(\"Este libro no está disponible para préstamo.\")\n",
    "\n",
    "    def devolver_libro(self,libro):\n",
    "        if libro in self.libros_prestados:\n",
    "            self.libros_prestados.remove(libro)\n",
    "            libro.actualizar_disponibilidad(True)\n",
    "            "
   ]
  },
  {
   "cell_type": "markdown",
   "metadata": {},
   "source": [
    "Clase Bibliotecario\n",
    "\n",
    "    Atributos\n",
    "\n",
    "id_bibliotecario\n",
    "nombre\n",
    "\n",
    "    Métodos\n",
    "agregar_libro\n",
    "eliminar_libro\n",
    "\n",
    "\n"
   ]
  },
  {
   "cell_type": "code",
   "execution_count": 3,
   "metadata": {},
   "outputs": [],
   "source": [
    "class Bibliotecario:\n",
    "    def __init__(self, id_bibliotecario,nombre):\n",
    "        self.id_bibliotecario = id_bibliotecario\n",
    "        self.nombre = nombre\n",
    "\n",
    "    def agregar_libro(self,biblioteca,libro):\n",
    "        biblioteca.libro.append(libro)\n",
    "        print(f\"El libro {libro.titulo} se ha añadido al sistema.\")\n",
    "\n",
    "    def eliminar_libro(self,biblioteca,libro):\n",
    "        if libro in biblioteca.libros:\n",
    "            biblioteca.libros.remove(libro)\n",
    "            print(f\"libro {libro.titulo} eliminado del sistema.\")\n",
    "            "
   ]
  },
  {
   "cell_type": "markdown",
   "metadata": {},
   "source": [
    "Clase Biblioteca\n",
    "\n",
    "    Atributos\n",
    "\n",
    "listas de libros,usuarios,bibliotecarios\n",
    "\n",
    "\n",
    "\n",
    "\n",
    "    Métodos\n",
    "\n",
    "registrar_usuario\n",
    "eliminar_usuario\n",
    "listar_libros\n",
    "listar_usuarios\n",
    "\n"
   ]
  },
  {
   "cell_type": "code",
   "execution_count": 4,
   "metadata": {},
   "outputs": [],
   "source": [
    "class Biblioteca:\n",
    "    def __init__(self):\n",
    "        self.libro = []\n",
    "        self.usuarios = []\n",
    "        self.biblioteca = []\n",
    "    \n",
    "    def registrar_usuario(self,usuario):\n",
    "        self.usuarios.append(usuario)\n",
    "        print(f\"El usuario {usuario.nombre} se ha registrado en el sistema.\")\n",
    "\n",
    "    def eliminar_usuario(self,usuario):\n",
    "        if usuario in self.usuarios:\n",
    "            self.usuarios.remove(usuario)\n",
    "            print(f\"El usuario {usuario.nombre} ha sido eliminado del sistema.\")\n",
    "\n",
    "    def listar_libros(self):\n",
    "        for libro in self.libro:\n",
    "            print(libro.mostrar_info())\n",
    "\n",
    "    def listar_usuarios(self):\n",
    "        for usuario in self.usuarios:\n",
    "            print(f\"{usuario.nombre}, email: {usuario.email}\")\n",
    "\n",
    "\n"
   ]
  },
  {
   "cell_type": "markdown",
   "metadata": {},
   "source": [
    "Clase Prestamo\n",
    "\n",
    "    Atributos\n",
    "\n",
    "    Métodos"
   ]
  },
  {
   "cell_type": "code",
   "execution_count": 5,
   "metadata": {},
   "outputs": [],
   "source": [
    "class Prestamo:\n",
    "    def __init__(self,id_prestamo,libro,usuario,fecha_prestamo,fecha_devolucion):\n",
    "        self.id_prestamo = id_prestamo\n",
    "        self.libro = libro\n",
    "        self.usuario = usuario\n",
    "        self.fecha_prestamo = fecha_prestamo\n",
    "        self.fecha_devolucion = fecha_devolucion\n",
    "\n",
    "    def finalizar_prestamo(self):\n",
    "        print(f\"prestamo del libro {self.libro.titulo} finalizada. Debe ser devuelto por {self.usuaio.nombre} antes de {self.fecha_devolucion}.\")\n"
   ]
  },
  {
   "cell_type": "code",
   "execution_count": 6,
   "metadata": {},
   "outputs": [],
   "source": [
    "mi_biblioteca = Biblioteca()"
   ]
  },
  {
   "cell_type": "code",
   "execution_count": 7,
   "metadata": {},
   "outputs": [],
   "source": [
    "libro1 = Libro(\"El Aleph\",\"Jorge Luis Borges\",\"72423498423\",\"Editorial Mundo\",1949)\n",
    "\n",
    "libro2 = Libro(\"Rayuela\",\"Julio Cortazar\",\"92384328745\",\"Editorial Sudamericana\",1962)"
   ]
  },
  {
   "cell_type": "code",
   "execution_count": 8,
   "metadata": {},
   "outputs": [],
   "source": [
    "usuario1 = Usuario(1,\"Juan Ignacio Zimmerman\",\"Juanii@gmail.com\")\n",
    "usuario2 = Usuario(2,\"Jazmin Helena Zimmerman\",\"Jazz@gmail.com\")"
   ]
  },
  {
   "cell_type": "code",
   "execution_count": 9,
   "metadata": {},
   "outputs": [],
   "source": [
    "bibliotecario = Bibliotecario(1, \"Marcos Chaves\")"
   ]
  },
  {
   "cell_type": "code",
   "execution_count": 10,
   "metadata": {},
   "outputs": [
    {
     "name": "stdout",
     "output_type": "stream",
     "text": [
      "El libro El Aleph se ha añadido al sistema.\n",
      "El libro Rayuela se ha añadido al sistema.\n"
     ]
    }
   ],
   "source": [
    "bibliotecario.agregar_libro(mi_biblioteca,libro1)\n",
    "bibliotecario.agregar_libro(mi_biblioteca,libro2)"
   ]
  },
  {
   "cell_type": "code",
   "execution_count": 11,
   "metadata": {},
   "outputs": [
    {
     "name": "stdout",
     "output_type": "stream",
     "text": [
      "El Aleph por Jorge Luis Borges, ISBN: 72423498423, Editorial: Editorial Mundo, Año: 1949\n",
      "Rayuela por Julio Cortazar, ISBN: 92384328745, Editorial: Editorial Sudamericana, Año: 1962\n"
     ]
    }
   ],
   "source": [
    "mi_biblioteca.listar_libros()"
   ]
  },
  {
   "cell_type": "code",
   "execution_count": 12,
   "metadata": {},
   "outputs": [],
   "source": [
    "mi_biblioteca.listar_usuarios()"
   ]
  },
  {
   "cell_type": "code",
   "execution_count": 13,
   "metadata": {},
   "outputs": [
    {
     "name": "stdout",
     "output_type": "stream",
     "text": [
      "El usuario Juan Ignacio Zimmerman se ha registrado en el sistema.\n",
      "El usuario Jazmin Helena Zimmerman se ha registrado en el sistema.\n"
     ]
    }
   ],
   "source": [
    "mi_biblioteca.registrar_usuario(usuario1)\n",
    "mi_biblioteca.registrar_usuario(usuario2)\n"
   ]
  },
  {
   "cell_type": "code",
   "execution_count": 14,
   "metadata": {},
   "outputs": [
    {
     "name": "stdout",
     "output_type": "stream",
     "text": [
      "El libro El Aleph ahora está No disponible\n",
      "Libro El Aleph prestado a Juan Ignacio Zimmerman\n"
     ]
    }
   ],
   "source": [
    "usuario1.prestar_libros(libro1)\n"
   ]
  },
  {
   "cell_type": "code",
   "execution_count": 15,
   "metadata": {},
   "outputs": [
    {
     "name": "stdout",
     "output_type": "stream",
     "text": [
      "El libro Rayuela ahora está No disponible\n",
      "Libro Rayuela prestado a Jazmin Helena Zimmerman\n"
     ]
    }
   ],
   "source": [
    "usuario2.prestar_libros(libro2)"
   ]
  }
 ],
 "metadata": {
  "kernelspec": {
   "display_name": "Python 3",
   "language": "python",
   "name": "python3"
  },
  "language_info": {
   "codemirror_mode": {
    "name": "ipython",
    "version": 3
   },
   "file_extension": ".py",
   "mimetype": "text/x-python",
   "name": "python",
   "nbconvert_exporter": "python",
   "pygments_lexer": "ipython3",
   "version": "3.12.9"
  }
 },
 "nbformat": 4,
 "nbformat_minor": 2
}
